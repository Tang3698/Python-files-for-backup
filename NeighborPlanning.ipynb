{
 "cells": [
  {
   "cell_type": "code",
   "execution_count": 30,
   "metadata": {},
   "outputs": [],
   "source": [
    "\n",
    "U2100Cells=[{\"rncid\":2001,\"cellid\":2280,\"cellname\":\"NTB9003X_2NB01_S01\"},{\"rncid\":2001,\"cellid\":2290,\"cellname\":\"NTB9003X_2NB01_S02\"},{\"rncid\":2001,\"cellid\":89,\"cellname\":\"NTB9003X_2NB01_S03\"}]\n",
    "U2100NCells=[{\"rncid\":2001,\"cellid\":3591,\"cellname\":\"NTB6006X_2NB01_S01\"},{\"rncid\":2001,\"cellid\":3592,\"cellname\":\"NTB6006X_2NB01_S02\"},{\"rncid\":2001,\"cellid\":3593,\"cellname\":\"NTB6006X_2NB01_S03\"},{\"rncid\":2001,\"cellid\":1096,\"cellname\":\"NTB1004X_2NB01_S02\"},{\"rncid\":2001,\"cellid\":1097,\"cellname\":\"NTB1004X_2NB01_S03\"},{\"rncid\":2001,\"cellid\":7456,\"cellname\":\"NTB8674X_2NB01_S02\"},{\"rncid\":2001,\"cellid\":19143,\"cellname\":\"NTB1008X_2NB01_S01\"},{\"rncid\":2001,\"cellid\":19144,\"cellname\":\"NTB1008X_2NB01_S02\"}]\n",
    "\n",
    "def UMTS_intra_site_intra_neighbors(scells):\n",
    "    intra_site_neighbors=[]\n",
    "    scells=U2100Cells\n",
    "    for cell in scells:\n",
    "        for i in [0,1,2]:\n",
    "            if cell['cellid']!=scells[i]['cellid']:\n",
    "                mml=\"ADD UINTRAFREQNCELL:RNCID=\"+str(cell['rncid'])+\", CellId=\"+str(cell['cellid'])+\", NCellRncId=\"+str(scells[i]['rncid'])+\", NCellId=\"+str(scells[i]['cellid'])+\", IDLEQOFFSET1SN=0, IDLEQOFFSET2SN=0, NPRIOFLAG=FALSE, CIOOFFSET=0, CELLSFORBIDDEN1A=AFFECT, CELLSFORBIDDEN1B=AFFECT, SIB11IND=TRUE, SIB12IND=FALSE, TPENALTYHCSRESELECT=D0, MBMSNCELLIND=TRUE;\"\n",
    "                intra_site_neighbors.append(mml)\n",
    "    return intra_site_neighbors\n",
    "\n",
    "def UMTS_inter_site_intra_neighbors(scells,ncells):\n",
    "    inter_site_neighbors=[]\n",
    "    scells=U2100Cells\n",
    "    ncells=U2100NCells\n",
    "    for scell in scells:\n",
    "        for ncell in ncells:\n",
    "            mml1=\"ADD UINTRAFREQNCELL:RNCID=\"+str(scell['rncid'])+\", CellId=\"+str(scell['cellid'])+\", NCellRncId=\"+str(ncell['rncid'])+\", NCellId=\"+str(ncell['cellid'])+\", IDLEQOFFSET1SN=0, IDLEQOFFSET2SN=0, NPRIOFLAG=FALSE, CIOOFFSET=0, CELLSFORBIDDEN1A=AFFECT, CELLSFORBIDDEN1B=AFFECT, SIB11IND=TRUE, SIB12IND=FALSE, TPENALTYHCSRESELECT=D0, MBMSNCELLIND=TRUE;\"\n",
    "            inter_site_neighbors.append(mml1)\n",
    "            mml2=\"ADD UINTRAFREQNCELL:RNCID=\"+str(ncell['rncid'])+\", CellId=\"+str(ncell['cellid'])+\", NCellRncId=\"+str(scell['rncid'])+\", NCellId=\"+str(scell['cellid'])+\", IDLEQOFFSET1SN=0, IDLEQOFFSET2SN=0, NPRIOFLAG=FALSE, CIOOFFSET=0, CELLSFORBIDDEN1A=AFFECT, CELLSFORBIDDEN1B=AFFECT, SIB11IND=TRUE, SIB12IND=FALSE, TPENALTYHCSRESELECT=D0, MBMSNCELLIND=TRUE;\"\n",
    "            inter_site_neighbors.append(mml2)\n",
    "    return inter_site_neighbors\n",
    "            \n",
    "        \n",
    "\n",
    "with open('UMTS_neighbor_output.txt','w+') as f:\n",
    "    f.write(\"\\\\\\Intra site intraFrequency neighbor list:\"+\"\\n\")\n",
    "    for script1 in UMTS_intra_site_intra_neighbors(U2100Cells):\n",
    "        f.write(str(script1)+\"\\n\")     # write()只能写入字符串str类型的数据\n",
    "    f.write(\"\\\\\\Inter sites intraFrequency neighbor list:\"+\"\\n\")\n",
    "    for script2 in UMTS_inter_site_intra_neighbors(U2100Cells,U2100NCells):\n",
    "        f.write(str(script2)+\"\\n\")\n",
    "    \n",
    "f.close()\n",
    "\n",
    "\n"
   ]
  },
  {
   "cell_type": "code",
   "execution_count": null,
   "metadata": {},
   "outputs": [],
   "source": []
  }
 ],
 "metadata": {
  "kernelspec": {
   "display_name": "Python 3",
   "language": "python",
   "name": "python3"
  },
  "language_info": {
   "codemirror_mode": {
    "name": "ipython",
    "version": 3
   },
   "file_extension": ".py",
   "mimetype": "text/x-python",
   "name": "python",
   "nbconvert_exporter": "python",
   "pygments_lexer": "ipython3",
   "version": "3.6.2"
  }
 },
 "nbformat": 4,
 "nbformat_minor": 2
}
