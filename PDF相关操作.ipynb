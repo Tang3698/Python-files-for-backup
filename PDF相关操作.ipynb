{
 "cells": [
  {
   "cell_type": "markdown",
   "metadata": {},
   "source": [
    "# 使用PyPDF2对PDF进行操作"
   ]
  },
  {
   "cell_type": "code",
   "execution_count": 31,
   "metadata": {},
   "outputs": [
    {
     "name": "stdout",
     "output_type": "stream",
     "text": [
      "1\n"
     ]
    }
   ],
   "source": [
    "#删除所有PDF文档的首页，输出已删除站点名称\n",
    "from PyPDF2 import PdfFileReader, PdfFileWriter\n",
    "\n",
    "pdfOne = PdfFileReader( r\"d:\\Work_201712_PCM\\20171225\\KKN8560.pdf\", \"rb\")\n",
    "pdf_out_file=PdfFileWriter()\n",
    "page_count=pdfOne.getNumPages()\n",
    "\n",
    "print(page_count)\n",
    "for i in range(1,page_count):              #从第2页开始存储\n",
    "    pdf_out_file.addPage(pdfOne.getPage(i))\n",
    "pdf_out_file.write(open(r\"d:\\Work_201712_PCM\\20171225\\KKN8560.pdf\", 'wb'))"
   ]
  },
  {
   "cell_type": "markdown",
   "metadata": {},
   "source": [
    "# PDF转换位图像进行OCR识别\n",
    "安装要点：\n",
    "\n",
    "1.wand.imge不能正常使用：\n",
    "\n",
    "解决办法：1）正确安装imageMagic和ghostscript  版本必须匹配（使用32bit版本），添加环境变量\n",
    "\n",
    "imageMagic下载路径：\n",
    "http://www.imagemagick.org/download/binaries/ImageMagick-6.9.9-27-Q16-HDRI-x86-dll.exe\n",
    "\n",
    "ghostscript下载路径：\n",
    "https://digi.bib.uni-mannheim.de/tesseract/tesseract-ocr-setup-3.05.01.exe\n",
    "\n",
    "参考文章：\n",
    "https://stackoverflow.com/questions/13984357/pythonmagick-cant-find-my-pdf-files\n",
    "\n",
    "2.tesseract无法正常调用\n",
    "\n",
    "使用exe可执行文件安装tesseract-OCR，设置环境变量，并且在系统环境变变量中添加testdata路径\n",
    "\n",
    "tesseract下载路径：\n",
    "https://digi.bib.uni-mannheim.de/tesseract/tesseract-ocr-setup-3.05.01.exe\n",
    "\n",
    "安装完成后在CMD中调试程序，程序正常运行的情况下，python可以正常调用\n",
    "\n",
    "参考文章：\n",
    "http://www.wangtuizhijia.com/archives/272\n",
    "\n",
    "## 代码如下\n",
    "参考代码：\n",
    "\n",
    "https://github.com/openpaperwork/pyocr\n",
    "\n",
    "https://python.freelycode.com/contribution/detail/344\n"
   ]
  },
  {
   "cell_type": "code",
   "execution_count": null,
   "metadata": {},
   "outputs": [],
   "source": [
    "from PIL import Image as PI\n",
    "from wand.image import Image\n",
    "import pyocr\n",
    "import pyocr.builders\n",
    "import io\n",
    "import os\n",
    "import sys\n",
    "\n",
    "\n",
    "os.chdir(r'd:\\Work_201712_PCM\\20171225')\n",
    "\n",
    "tools = pyocr.get_available_tools()\n",
    "if len(tools) == 0:\n",
    "    print(\"No OCR tool found\")\n",
    "    sys.exit(1)\n",
    "# The tools are returned in the recommended order of usage\n",
    "tool = tools[0]\n",
    "print(\"Will use tool '%s'\" % (tool.get_name()))\n",
    "\n",
    "req_img=[]\n",
    "img_pdf=Image(filename=r'd:\\Work_201712_PCM\\20171225\\test1.pdf',resolution=300)\n",
    "image_jpeg=img_pdf.convert('jpeg')\n",
    "\n",
    "for img in image_jpeg.sequence:\n",
    "    img_page=Image(image=img)\n",
    "    req_img.append(img_page.make_blob('jpeg'))\n",
    "\n",
    "for img in req_img:\n",
    "    txt=tool.image_to_string(\n",
    "        PI.open(io.BytesIO(img)),\n",
    "        lang=\"eng\",\n",
    "        builder=pyocr.builders.TextBuilder()\n",
    "        )\n",
    "    print(txt)\n",
    "    print(\"**************************************\")"
   ]
  },
  {
   "cell_type": "code",
   "execution_count": 1,
   "metadata": {},
   "outputs": [
    {
     "name": "stdout",
     "output_type": "stream",
     "text": [
      "d:\\Work_201712_PCM\\20171225\\PDF all - Copy\\0007641500160N\\PAC after SAC\\Lot1-1_Mei\\original from pc\\U&L A149 PAC NEA_Macro_1 Site_2.pdf\n",
      "d:\\Work_201712_PCM\\20171225\\PDF all - Copy\\0007641500160N\\PAC after SAC\\Lot1-1_Mei\\original from pc\\U&L A149 PAC NEA_Macro_1 Site_20.pdf\n",
      "d:\\Work_201712_PCM\\20171225\\PDF all - Copy\\0007641500160N\\PAC after SAC\\Lot1-1_Mei\\original from pc\\U&L A149 PAC NEA_Macro_1 Site_4.pdf\n",
      "d:\\Work_201712_PCM\\20171225\\PDF all - Copy\\0007641500160N\\PAC after SAC\\Lot1-1_Mei\\original from pc\\U&L A149 PAC NEA_Macro_1 Site_6.pdf\n",
      "d:\\Work_201712_PCM\\20171225\\PDF all - Copy\\0007641500180G\\PAC_Node B\\Lot 1-1_Mei\\New folder\\U&L A149 PAC BMA_Macro_BKN_1 Site.pdf\n",
      "d:\\Work_201712_PCM\\20171225\\PDF all - Copy\\0007641500180G\\PAC_Node B\\Lot 1-1_Mei\\New folder\\U&L A149 PAC NEA_Macro_1 Site_21.pdf\n",
      "d:\\Work_201712_PCM\\20171225\\PDF all - Copy\\0007641500180G\\PAC_Node B\\Lot 1-1_Mei\\New folder\\U&L A149 PAC NEA_Macro_1 Site_27.pdf\n",
      "d:\\Work_201712_PCM\\20171225\\PDF all - Copy\\0007641500180G\\PAC_Node B\\Lot 1-1_Mei\\New folder\\U&L A149 PAC NEA_Macro_1 Site_28.pdf\n",
      "d:\\Work_201712_PCM\\20171225\\PDF all - Copy\\0007641500180G\\PAC_Node B\\Lot 1-1_Mei\\New folder\\U&L A149 PAC NEA_Macro_1 Site_9.pdf\n",
      "d:\\Work_201712_PCM\\20171225\\PDF all - Copy\\0007641500180G\\PAC_Node B\\Lot 1-1_Mei\\New folder\\U&L A149 PAC NEA_Macro_2 Sites.pdf\n",
      "d:\\Work_201712_PCM\\20171225\\PDF all - Copy\\000764160010AA\\PDF-lot1\\4969010189_PAC_Lot 3\\Scan\\BKN1601.pdf\n",
      "d:\\Work_201712_PCM\\20171225\\PDF all - Copy\\000764160010AA\\PDF-lot1\\4969010189_PAC_Lot 3\\Scan\\BRR6515.pdf\n"
     ]
    }
   ],
   "source": [
    "#统计页数为0的无效pdf文件并输出详细路径及文件名\n",
    "import os\n",
    "from PyPDF2 import PdfFileReader, PdfFileWriter\n",
    "\n",
    "srcpath=r'd:\\Work_201712_PCM\\20171225\\PDF all - Copy'\n",
    "\n",
    "for root,dirs,files in os.walk(srcpath,True):\n",
    "    for eachfile in files:\n",
    "        format=\"pdf\"\n",
    "        filter=eachfile.lower().split(\".\")\n",
    "        if format == filter[1]:\n",
    "            pdfOne = PdfFileReader(os.path.join(root,eachfile), \"rb\")\n",
    "            page_count=pdfOne.getNumPages()\n",
    "            if page_count==0:\n",
    "                print(os.path.join(root,eachfile))"
   ]
  },
  {
   "cell_type": "markdown",
   "metadata": {},
   "source": [
    "## 文件夹下遍历所有pdf文档，提取指定页面"
   ]
  },
  {
   "cell_type": "code",
   "execution_count": null,
   "metadata": {},
   "outputs": [],
   "source": [
    "import os\n",
    "from PyPDF2 import PdfFileReader, PdfFileWriter\n",
    "\n",
    "os.chdir(r'd:\\Work_201712_PCM\\20171225')\n",
    "srcpath=r'd:\\Work_201712_PCM\\20171225\\PDF all - Copy'\n",
    "change_log=open(r'change_log.txt','w+')\n",
    "format=\"pdf\"\n",
    "for root,dirs,files in os.walk(srcpath,True):\n",
    "    for eachfile in files:\n",
    "        filter=eachfile.lower().split(\".\")\n",
    "        pdf_name=filter[0]\n",
    "        if format == filter[1]:\n",
    "            pdfOne = PdfFileReader(os.path.join(root,eachfile), \"rb\")\n",
    "            page_count=pdfOne.getNumPages()\n",
    "            if page_count > 1:\n",
    "                try:\n",
    "                    pdf_out_file=PdfFileWriter()\n",
    "                    pdf_file_path=os.path.join(root,eachfile)\n",
    "                    for i in range(1,page_count):              \n",
    "                        pdf_out_file.addPage(pdf.getPage(i))\n",
    "                    pdf_out_file.write(open(pdf_file_path, 'wb'))\n",
    "                    change_log.write(pdf_name+'\\n')\n",
    "                    print(pdf_name+\"with \"+str(page_count)+ \"pages is changed successfully\")\n",
    "                except:\n",
    "                    change_log.write(pdf_name+'has error!\\n')"
   ]
  }
 ],
 "metadata": {
  "kernelspec": {
   "display_name": "Python 3",
   "language": "python",
   "name": "python3"
  },
  "language_info": {
   "codemirror_mode": {
    "name": "ipython",
    "version": 3
   },
   "file_extension": ".py",
   "mimetype": "text/x-python",
   "name": "python",
   "nbconvert_exporter": "python",
   "pygments_lexer": "ipython3",
   "version": "3.6.2"
  }
 },
 "nbformat": 4,
 "nbformat_minor": 2
}
