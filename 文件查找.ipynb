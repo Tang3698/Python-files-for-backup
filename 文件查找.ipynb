{
 "cells": [
  {
   "cell_type": "markdown",
   "metadata": {},
   "source": [
    "## 查找文件1--通过关键字在指定文件夹中查找包含该关键字的文件"
   ]
  },
  {
   "cell_type": "code",
   "execution_count": 10,
   "metadata": {},
   "outputs": [
    {
     "name": "stdout",
     "output_type": "stream",
     "text": [
      "Example:\n",
      "path>>> F:\\secret\\action movies\n",
      "key>>>.avi\n",
      "The result will be saved in C:\\findall.txt\n",
      "==========================================\n",
      "path>>> D:\\software\n",
      "key>>>.xlsx\n"
     ]
    }
   ],
   "source": [
    "import os\n",
    "\n",
    "\n",
    "def find_files(path, wanted):\n",
    "    try:\n",
    "        # 盘符内所有文件（夹）的路径\n",
    "        dir_list = os.listdir(path)\n",
    "        for filename in dir_list:\n",
    "            # 当前文件（夹）的路径\n",
    "            new_path = os.path.join(path, filename)\n",
    "            # 如果是文件夹，深入下一级继续查找\n",
    "            if os.path.isdir(new_path):\n",
    "                find_files(new_path, wanted)\n",
    "            # 若是文件，检查文件名里是否含有关键字, 应该不区分大小写，特别是针对后缀名时比较方便\n",
    "            elif os.path.isfile(new_path):\n",
    "                if wanted.lower() in filename.lower():\n",
    "                    print(new_path)\n",
    "    except Exception as e:\n",
    "        print(e)\n",
    "\n",
    "\n",
    "def save_all():\n",
    "    print('Example:\\npath>>> F:\\\\secret\\\\action movies' + '\\n' + 'key>>>.avi')\n",
    "    print('The result will be saved in C:\\\\findall.txt\\n==========================================')\n",
    "    p = input('path>>> ')\n",
    "    k = input('key>>>')\n",
    "    find_files(p, k)\n",
    "\n",
    "\n",
    "if __name__ == '__main__':\n",
    "    save_all()"
   ]
  },
  {
   "cell_type": "markdown",
   "metadata": {},
   "source": [
    "## 查找文件2"
   ]
  },
  {
   "cell_type": "code",
   "execution_count": 1,
   "metadata": {},
   "outputs": [
    {
     "name": "stdout",
     "output_type": "stream",
     "text": [
      "Input Directory:ddd\n"
     ]
    },
    {
     "ename": "FileNotFoundError",
     "evalue": "[WinError 2] The system cannot find the file specified: 'ddd'",
     "output_type": "error",
     "traceback": [
      "\u001b[1;31m---------------------------------------------------------------------------\u001b[0m",
      "\u001b[1;31mFileNotFoundError\u001b[0m                         Traceback (most recent call last)",
      "\u001b[1;32m<ipython-input-1-2f598b729518>\u001b[0m in \u001b[0;36m<module>\u001b[1;34m()\u001b[0m\n\u001b[0;32m      1\u001b[0m \u001b[1;32mimport\u001b[0m \u001b[0mglob\u001b[0m\u001b[1;33m,\u001b[0m \u001b[0mos\u001b[0m\u001b[1;33m\u001b[0m\u001b[0m\n\u001b[0;32m      2\u001b[0m \u001b[0mdirectory\u001b[0m\u001b[1;33m=\u001b[0m\u001b[0minput\u001b[0m\u001b[1;33m(\u001b[0m\u001b[1;34m'Input Directory:'\u001b[0m\u001b[1;33m)\u001b[0m\u001b[1;33m\u001b[0m\u001b[0m\n\u001b[1;32m----> 3\u001b[1;33m \u001b[0mos\u001b[0m\u001b[1;33m.\u001b[0m\u001b[0mchdir\u001b[0m\u001b[1;33m(\u001b[0m\u001b[0mdirectory\u001b[0m\u001b[1;33m)\u001b[0m\u001b[1;33m\u001b[0m\u001b[0m\n\u001b[0m\u001b[0;32m      4\u001b[0m \u001b[1;32mfor\u001b[0m \u001b[0mfile\u001b[0m \u001b[1;32min\u001b[0m \u001b[0mglob\u001b[0m\u001b[1;33m.\u001b[0m\u001b[0mglob\u001b[0m\u001b[1;33m(\u001b[0m\u001b[1;34m\"*.exe\"\u001b[0m\u001b[1;33m)\u001b[0m\u001b[1;33m:\u001b[0m\u001b[1;33m\u001b[0m\u001b[0m\n\u001b[0;32m      5\u001b[0m     \u001b[0mprint\u001b[0m\u001b[1;33m(\u001b[0m\u001b[0mfile\u001b[0m\u001b[1;33m)\u001b[0m\u001b[1;33m\u001b[0m\u001b[0m\n",
      "\u001b[1;31mFileNotFoundError\u001b[0m: [WinError 2] The system cannot find the file specified: 'ddd'"
     ]
    }
   ],
   "source": [
    "import glob, os\n",
    "directory=input('Input Directory:')\n",
    "os.chdir(directory)\n",
    "for file in glob.glob(\"*.exe\"):   \n",
    "    print(file)\n",
    "print(\"***************\")\n",
    "keyword=input('Keyword')\n",
    "\n",
    "# glob.glob(pathname, *, recursive=False),\n",
    "#Return a possibly-empty list of path names that match pathname, which must be a string containing a path specification. \n",
    "#pathname can be either absolute (like /usr/src/Python-1.5/Makefile) or relative (like ../../Tools/*/*.gif), and can contain shell-style wildcards. \n",
    "for filename in glob.iglob('D:\\software\\**\\*'+keyword+'*.exe', recursive=True):    #使用*keyword*可实现关键字匹配\n",
    "    print(filename)"
   ]
  },
  {
   "cell_type": "markdown",
   "metadata": {},
   "source": [
    "## 打开查找到的文件"
   ]
  },
  {
   "cell_type": "code",
   "execution_count": 2,
   "metadata": {},
   "outputs": [
    {
     "name": "stdout",
     "output_type": "stream",
     "text": [
      "d:/software/web\n",
      "True\n",
      "['geckodriver-v0.19.1-win64.zip', 'httpd-2.4.27-Win64-VC15', 'httpd-2.4.27-Win64-VC15.zip', 'openpyxl', 'openpyxl-2.5.0b1.tar.gz', 'php-7.1.8-Win32-VC14-x64.zip', 'phpMyAdmin-4.7.3-all-languages.zip', 'php_msql.rar', 'pycharm-community-2017.2.3.exe', 'selenium-3.7.0.tar.gz', 'xampp-win32-7.1.7-0-VC14-installer.exe']\n"
     ]
    }
   ],
   "source": [
    "import os\n",
    "path=\"d:/software/web/php_msql.rar\"\n",
    "a=os.path.dirname(path)   #显示文件所在的目录\n",
    "print(a)\n",
    "test=os.path.exists('d:/software/coding/')   #判断目录或文件是否存在\n",
    "print(test)\n",
    "names=os.listdir('d:/software/coding/') #显示目录下的所有文件\n",
    "print(names)\n",
    "\n"
   ]
  },
  {
   "cell_type": "markdown",
   "metadata": {},
   "source": [
    "## python 实现文件的递归拷贝"
   ]
  },
  {
   "cell_type": "code",
   "execution_count": null,
   "metadata": {},
   "outputs": [],
   "source": [
    "# -*- coding: utf-8 -*-\n",
    "#!/usr/bin/python\n",
    "#Filename:copyfile.py\n",
    "import os,shutil\n",
    "def mycopy(srcpath,dstpath):\n",
    "    if not os.path.exists(srcpath):   #判断源路径是否存在\n",
    "        print \"srcpath not exist!\"\n",
    "    if not os.path.exists(dstpath):   #判断目标路径是否存在\n",
    "        print \"dstpath not exist!\"\n",
    "\n",
    "#os.walk(top, topdown=True, onerror=None, followlinks=False),结果是一个三元tupple(dirpath, dirnames, filenames), \n",
    "#第一个为起始路径，第二个为起始路径下的文件夹，第三个是起始路径下的文件。\n",
    "#dirpath 是一个string，代表目录的路径，\n",
    "#dirnames 是一个list，包含了dirpath下所有子目录的名字。\n",
    "#filenames 是一个list，包含了非目录文件的名字。'''\n",
    "\n",
    "    for root,dirs,files in os.walk(srcpath,True):  \n",
    "        for eachfile in files:\n",
    "            shutil.copy(os.path.join(root,eachfile),dstpath)   \n",
    "srcpath='e:\\\\pic'\n",
    "dstpath='f:\\\\pictotal'\n",
    "mycopy(srcpath,dstpath)"
   ]
  },
  {
   "cell_type": "markdown",
   "metadata": {},
   "source": [
    "### 显示一个文件夹中所有文件及其路径"
   ]
  },
  {
   "cell_type": "code",
   "execution_count": null,
   "metadata": {},
   "outputs": [],
   "source": [
    "import os\n",
    "\n",
    "def find_files(path):\n",
    "    output=[]\n",
    "    try:\n",
    "        # 盘符内所有文件（夹）的路径\n",
    "        dir_list = os.listdir(path)\n",
    "        for filename in dir_list:\n",
    "            # 当前文件（夹）的路径\n",
    "            new_path = os.path.join(path, filename)\n",
    "            # 如果是文件夹，深入下一级继续查找\n",
    "            if os.path.isdir(new_path):\n",
    "                find_files(new_path)\n",
    "            # 若是文件，输出完整文件路径\n",
    "            elif os.path.isfile(new_path):\n",
    "                    output.append(new_path)\n",
    "        return output\n",
    "    except Exception as e:\n",
    "        print(e)\n",
    "        \n",
    "def save_all():    \n",
    "    print('Example:\\npath>>> F:\\\\secret\\\\action movies')    \n",
    "    print('The result will be saved in findfiles_result.txt\\n==========================================')\n",
    "    p = input('path>>> ')\n",
    "    expfile=open('findfiles_result.txt','w+')  #打开result.txt 文件，w+，更新写入模式\n",
    "    for x in find_files(p):\n",
    "        print(x)\n",
    "        expfile.write(x+'\\n')  #逐行写入，追加换行符\\n\n",
    "    expfile.close()\n",
    "\n",
    "\n",
    "if __name__ == '__main__':\n",
    "    save_all()"
   ]
  },
  {
   "cell_type": "markdown",
   "metadata": {},
   "source": [
    "## 显示文件夹下的所有文件名"
   ]
  },
  {
   "cell_type": "code",
   "execution_count": 2,
   "metadata": {},
   "outputs": [
    {
     "name": "stdout",
     "output_type": "stream",
     "text": [
      "Example:\n",
      "path>>> F:\\secret\\action movies\n",
      "key>>>.avi\n",
      "The result will be saved in C:\\findall.txt\n",
      "==========================================\n",
      "path>>> \\\\10.195.152.26\\30-BFKT-Certificates\\0007641700250Q\\PAC_Village Batch 2\\EAS\\Lot 2 -- 39 sites 20 December 2017\n",
      "key>>>.pdf\n",
      "['PAC Village#2 CBR7675 BFKT.pdf']\n",
      "['PAC Village#2 CBR7679 BFKT.pdf']\n",
      "['PAC Village#2 CCS7207 BFKT.pdf']\n",
      "['PAC Village#2 CCS7208 BFKT.pdf']\n",
      "['PAC Village#2 CCS7209 BFKT.pdf']\n",
      "['PAC Village#2 CCS7210 BFKT.pdf']\n",
      "['PAC Village#2 CCS7212 BFKT.pdf']\n",
      "['PAC Village#2 CCS7214 BFKT.pdf']\n",
      "['PAC Village#2 CCS7215 BFKT.pdf']\n",
      "['PAC Village#2 CCS7216 BFKT.pdf']\n",
      "['PAC Village#2 CCS7218 BFKT.pdf']\n",
      "['PAC Village#2 CTB7137 BFKT.pdf']\n",
      "['PAC Village#2 CTB7142 BFKT.pdf']\n",
      "['PAC Village#2 CTB7144 BFKT.pdf']\n",
      "['PAC Village#2 CTB7146 BFKT.pdf']\n",
      "['PAC Village#2 CTB7148 BFKT.pdf']\n",
      "['PAC Village#2 CTB8519 BFKT.pdf']\n",
      "['PAC Village#2 CTB8527 BFKT.pdf']\n",
      "['PAC Village#2 NKN1631 BFKT.pdf']\n",
      "['PAC Village#2 NKN8506 BFKT.pdf']\n",
      "['PAC Village#2 NKN8507 BFKT.pdf']\n",
      "['PAC Village#2 NKN8524 BFKT.pdf']\n",
      "['PAC Village#2 PCR7156 BFKT.pdf']\n",
      "['PAC Village#2 PCR7157 BFKT.pdf']\n",
      "['PAC Village#2 PCR7158 BFKT.pdf']\n",
      "['PAC Village#2 PCR7163 BFKT.pdf']\n",
      "['PAC Village#2 PCR7165 BFKT.pdf']\n",
      "['PAC Village#2 PCR7169 BFKT.pdf']\n",
      "['PAC Village#2 PCR7170 BFKT.pdf']\n",
      "['PAC Village#2 PCR7174 BFKT.pdf']\n",
      "['PAC Village#2 PCR8523 BFKT.pdf']\n",
      "['PAC Village#2 PCR8546 BFKT.pdf']\n",
      "['PAC Village#2 SKO1632 BFKT.pdf']\n",
      "['PAC Village#2 SKO7168 BFKT.pdf']\n",
      "['PAC Village#2 SKO7171 BFKT.pdf']\n",
      "['PAC Village#2 SKO7179 BFKT.pdf']\n",
      "['PAC Village#2 TRT5524 BFKT.pdf']\n",
      "['PAC Village#2 TRT7130 BFKT.pdf']\n",
      "['PAC Village#2 TRT7132 BFKT.pdf']\n"
     ]
    }
   ],
   "source": [
    "import os\n",
    "\n",
    "\n",
    "def find_files(path, wanted):\n",
    "    try:\n",
    "        # 盘符内所有文件（夹）的路径\n",
    "        dir_list = os.listdir(path)\n",
    "        for filename in dir_list:\n",
    "            # 当前文件（夹）的路径\n",
    "            new_path = os.path.join(path, filename)\n",
    "            # 如果是文件夹，深入下一级继续查找\n",
    "            if os.path.isdir(new_path):\n",
    "                find_files(new_path, wanted)\n",
    "            # 若是文件，检查文件名里是否含有关键字, 应该不区分大小写，特别是针对后缀名时比较方便\n",
    "            elif os.path.isfile(new_path):\n",
    "                if wanted.lower() in filename.lower():\n",
    "                    sitename=str(filename).split('_')  #分割字符串，partition返回tuple数据类型\n",
    "                    print(sitename)   #仅输出文件名\n",
    "    except Exception as e:\n",
    "        print(e)\n",
    "\n",
    "\n",
    "def save_all():\n",
    "    print('Example:\\npath>>> F:\\\\secret\\\\action movies' + '\\n' + 'key>>>.avi')\n",
    "    print('The result will be saved in C:\\\\findall.txt\\n==========================================')\n",
    "    p = input('path>>> ')\n",
    "    k = input('key>>>')\n",
    "    find_files(p, k)\n",
    "\n",
    "\n",
    "if __name__ == '__main__':\n",
    "    save_all()"
   ]
  },
  {
   "cell_type": "markdown",
   "metadata": {},
   "source": [
    "## 根据关键字搜索文件名称并拷贝到指定文件夹"
   ]
  },
  {
   "cell_type": "code",
   "execution_count": 35,
   "metadata": {},
   "outputs": [
    {
     "name": "stdout",
     "output_type": "stream",
     "text": [
      "patha\n"
     ]
    }
   ],
   "source": [
    "import os,shutil\n",
    "def mycopy(srcpath,dstpath,siteid):\n",
    "    if not os.path.exists(srcpath):\n",
    "        print(\"srcpath not exist!\")\n",
    "    if not os.path.exists(dstpath):\n",
    "        print(\"dstpath not exist!\")\n",
    "    for root,dirs,files in os.walk(srcpath,True):\n",
    "        for eachfile in files:\n",
    "            format=\"xls\"                 \n",
    "            if siteid.lower() in eachfile.lower():   #条件1，判断文件名中是否包含关键字\n",
    "                filter=eachfile.split(\".\")\n",
    "                if format == filter[1]:              #条件2，文件格式名判断，只对某一类文件进行操作\n",
    "                    shutil.copy(os.path.join(root,eachfile),dstpath)\n",
    "                    print(eachfile)\n",
    "                    \n",
    "srcpath=input('path')\n",
    "dstpath=r'd:\\Work_201712_PCM\\20171225\\for copy'\n",
    "\n",
    "\n",
    "site_list=[]\n",
    "for siteid in site_list:\n",
    "    mycopy(srcpath,dstpath,siteid)"
   ]
  },
  {
   "cell_type": "markdown",
   "metadata": {},
   "source": [
    "## 批量修改文件名"
   ]
  },
  {
   "cell_type": "markdown",
   "metadata": {},
   "source": [
    "# coding:utf-8\n",
    "# by LandGrey\n",
    "# Function: Modify the file name or file postfix\n",
    "\n",
    "import os\n",
    "\n",
    "Path = r'c:\\works\\try' #要修改文件所处路径\n",
    "all_file_list = os.listdir(Path) #列出指定目录下的所有文件\n",
    "Oldpart = \"test\" #要替换的文件名中的部分\n",
    "Newpart = \"Land\" #新的文件名部分\n",
    "\n",
    "Oldpostfix =r\".txt\" #要修改的文件扩展名类型\n",
    "Newpostfix = r\".Grey\" #新的文件扩展名类型\n",
    "\n",
    "#批量修改文件名字\n",
    "def Modifyprefix(oldcontent,newcontent):\n",
    "   for file_name in all_file_list:\n",
    "       currentdir =os.path.join(Path, file_name) #连接指定的路径和文件名or文件夹名字\n",
    "       if os.path.isdir(currentdir): #如果当前路径是文件夹，则跳过\n",
    "          continue\n",
    "        fname = os.path.splitext(file_name)[0] #分解出当前的文件路径名字\n",
    "        ftype = os.path.splitext(file_name)[1] #分解出当前的文件扩展名\n",
    "        replname =fname.replace(oldcontent,newcontent) \n",
    "        newname = os.path.join(Path,replname+ftype) #文件路径与新的文件名字+原来的扩展名\n",
    "        os.rename(currentdir,newname) #重命名\n",
    "   print \"Modify file name........\"\n",
    "\n",
    "\n",
    "#批量修改文件扩展名\n",
    "def Modifypostfix(oldftype,newftype):\n",
    "    for file_name in all_file_list:\n",
    "        currentdir =os.path.join(Path,file_name)\n",
    "        if os.path.isdir(currentdir): #跳过文件夹\n",
    "           continue\n",
    "        fname = os.path.splitext(file_name)[0]\n",
    "        ftype = os.path.splitext(file_name)[1]\n",
    "        if ftype ==oldftype: #找到需要修改的扩展名\n",
    "          newname = os.path.join(Path,fname+newftype) #文件路径与原来的文件名字+新的扩展名\n",
    "          os.rename(currentdir,newname) #重命名\n",
    "    print \"Modify file postfix...... \"\n",
    "\n",
    "Modifyprefix(Oldpart,Newpart)\n",
    "Modifypostfix(Oldpostfix,Newpostfix)\n",
    "print \"finished !\"\n"
   ]
  },
  {
   "cell_type": "code",
   "execution_count": 1,
   "metadata": {},
   "outputs": [
    {
     "name": "stdout",
     "output_type": "stream",
     "text": [
      "path>>>ddd\n",
      "path>>> ddd\n",
      "key>>>ddd\n",
      "[WinError 3] The system cannot find the path specified: 'ddd'\n"
     ]
    }
   ],
   "source": [
    "import os\n",
    "\n",
    "\n",
    "def change_files(path, old_key, new_key):\n",
    "    try:\n",
    "        # 盘符内所有文件（夹）的路径\n",
    "        dir_list = os.listdir(path)\n",
    "        for filename in dir_list:\n",
    "            # 当前文件（夹）的路径\n",
    "            new_path = os.path.join(path, filename)\n",
    "            # 如果是文件夹，深入下一级继续查找\n",
    "            if os.path.isdir(new_path):\n",
    "                change_files(new_path, old_key, new_key)\n",
    "            # 若是文件，检查文件名里是否含有关键字, 应该不区分大小写，特别是针对后缀名时比较方便\n",
    "            elif os.path.isfile(new_path):\n",
    "                print(new_path)   #仅输出文件名\n",
    "                fname = os.path.splitext(filename)[0] #分解出当前的文件路径名字\n",
    "                ftype = os.path.splitext(filename)[1] #分解出当前的文件扩展名\n",
    "                replname =fname.replace(old_key,new_key) \n",
    "                newname = os.path.join(path,replname+ftype) #文件路径与新的文件名字+原来的扩展名\n",
    "                os.rename(new_path,newname) #重命名\n",
    "    except Exception as e:\n",
    "        print(e)\n",
    "\n",
    "\n",
    "def save_all():\n",
    "    path=input('path>>>')\n",
    "    old_key = input('path>>> ')\n",
    "    new_key = input('key>>>')\n",
    "    change_files(path,old_key,new_key)\n",
    "\n",
    "\n",
    "if __name__ == '__main__':\n",
    "    save_all()"
   ]
  },
  {
   "cell_type": "code",
   "execution_count": null,
   "metadata": {},
   "outputs": [],
   "source": []
  }
 ],
 "metadata": {
  "kernelspec": {
   "display_name": "Python 3",
   "language": "python",
   "name": "python3"
  },
  "language_info": {
   "codemirror_mode": {
    "name": "ipython",
    "version": 3
   },
   "file_extension": ".py",
   "mimetype": "text/x-python",
   "name": "python",
   "nbconvert_exporter": "python",
   "pygments_lexer": "ipython3",
   "version": "3.6.2"
  }
 },
 "nbformat": 4,
 "nbformat_minor": 2
}
