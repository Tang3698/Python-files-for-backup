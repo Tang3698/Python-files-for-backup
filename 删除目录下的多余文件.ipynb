{
 "cells": [
  {
   "cell_type": "markdown",
   "metadata": {},
   "source": [
    "## 只保留一类文件，删除其他全部文件"
   ]
  },
  {
   "cell_type": "code",
   "execution_count": null,
   "metadata": {},
   "outputs": [],
   "source": [
    "import os\n",
    "\n",
    "\n",
    "def find_files(path, wanted):\n",
    "    try:\n",
    "        # 盘符内所有文件（夹）的路径\n",
    "        dir_list = os.listdir(path)\n",
    "        for filename in dir_list:\n",
    "            # 当前文件（夹）的路径\n",
    "            new_path = os.path.join(path, filename)\n",
    "            # 如果是文件夹，深入下一级继续查找\n",
    "            if os.path.isdir(new_path):\n",
    "                find_files(new_path, wanted)\n",
    "            # 若是文件，检查文件名里是否含有关键字, 应该不区分大小写，特别是针对后缀名时比较方便\n",
    "            elif os.path.isfile(new_path):\n",
    "                if wanted.lower() in filename.lower():\n",
    "                    print(new_path)\n",
    "                else:\n",
    "                    os.remover(new_path)\n",
    "    except Exception as e:\n",
    "        print(e)\n",
    "\n",
    "\n",
    "def save_all():\n",
    "    print('Example:\\npath>>> F:\\\\secret\\\\action movies' + '\\n' + 'key>>>.avi')\n",
    "    print('The result will be saved in C:\\\\findall.txt\\n==========================================')\n",
    "    p = input('path>>> ')\n",
    "    k = input('key>>>')\n",
    "    find_files(p, k)\n",
    "\n",
    "\n",
    "if __name__ == '__main__':\n",
    "    save_all()"
   ]
  },
  {
   "cell_type": "markdown",
   "metadata": {},
   "source": [
    "## 递归删除空文件夹"
   ]
  },
  {
   "cell_type": "code",
   "execution_count": 3,
   "metadata": {},
   "outputs": [
    {
     "name": "stdout",
     "output_type": "stream",
     "text": [
      "path>>> d:\\Work_201712_PCM\\20171225\\PDF all - Copy\\\n"
     ]
    }
   ],
   "source": [
    "\n",
    "import os\n",
    "\n",
    "def delEmptyFloder(currentDir):  \n",
    "    #print(currentDir)  \n",
    "      \n",
    "    if not os.path.isdir(currentDir):  \n",
    "        return  \n",
    "      \n",
    "    fileList = os.listdir(currentDir)  \n",
    "    for d in fileList:  \n",
    "        dir=currentDir+\"\\\\\"+d  \n",
    "        #print(dir)  \n",
    "        #判断是不是文件夹，是文件夹就得继续深入  \n",
    "        if os.path.isdir(dir):  \n",
    "            delEmptyFloder(dir)  \n",
    "            #print(deeperDir)  \n",
    "                  \n",
    "    if not os.listdir(currentDir):  \n",
    "        os.rmdir(currentDir)  \n",
    "        print(\"删除空文件夹 \"+currentDir)  \n",
    "        return \n",
    "\n",
    "if __name__ == '__main__':\n",
    "    p = input('path>>> ')\n",
    "    delEmptyFloder(p)"
   ]
  },
  {
   "cell_type": "markdown",
   "metadata": {},
   "source": [
    "## Python遍历文件夹，删除空文件夹，过滤特定大小和格式的文件"
   ]
  },
  {
   "cell_type": "code",
   "execution_count": null,
   "metadata": {},
   "outputs": [],
   "source": [
    "# -*- coding: cp936 -*-\n",
    "'''\n",
    "遍历文件夹及其子文件夹\n",
    "查找其中图片文件\n",
    "过滤空文件\n",
    "文件大小为0，过滤\n",
    "'''\n",
    "import os\n",
    "import Image\n",
    "Const_Image_Format = [\".jpg\",\".jpeg\",\".bmp\",\".png\",\".gif\"]\n",
    "rootDir = \"D:\\source\"\n",
    "#判断路径是否存在\n",
    "#os.path.exists(folderpath.encode('GBK'))路径如果存在，返回True\n",
    "limit_size = 51*1024  #图片大小限制，30K\n",
    "limit_height = 100    #高度限制\n",
    "limit_width = 100     #宽度限制\n",
    "\n",
    "class FileFilt:\n",
    "    #fileList = [\"\"]\n",
    "    counter = 0\n",
    "    deleted = 0\n",
    "    errord = 0\n",
    "    def __init__(self):\n",
    "        pass\n",
    "    def FilterFile(self, dirr):\n",
    "        for parent,dirnames,filenames in os.walk(rootDir):       \n",
    "            for filename in filenames :\n",
    "                fileDir = os.path.join(parent,filename)\n",
    "                if fileDir and (os.path.splitext(fileDir)[1] in Const_Image_Format ):\n",
    "                    filesize = os.path.getsize(fileDir)\n",
    "                    if (filesize <= limit_size):\n",
    "                        os.remove(fileDir)\n",
    "                        self.deleted+=1\n",
    "                    else:\n",
    "                        try:\n",
    "                            fp = open(fileDir,'rb')\n",
    "                            img = Image.open(fp)\n",
    "                            w,h = img.size\n",
    "                            if (w < limit_width or h < limit_height):\n",
    "                                fp.close()\n",
    "                                os.remove(fileDir)\n",
    "                                self.deleted+=1\n",
    "                                continue\n",
    "                            #print self.counter,fileDir,'w=',w,'h=',h,',size=',(filesize/1024),'k'\n",
    "                            self.counter+=1\n",
    "                        except(IOError):\n",
    "                            fp.close()\n",
    "                            print \"【ERROR】\",fileDir\n",
    "                            os.remove(fileDir)\n",
    "                            self.errord+=1\n",
    "                else:\n",
    "                    os.remove(fileDir)\n",
    "                    self.deleted+=1\n",
    "\n",
    "\n",
    "\n",
    "# 删除空文件夹\n",
    "def delete_null_dir(dirr):\n",
    "    if os.path.isdir(dirr):\n",
    "        for p in os.listdir(dirr):\n",
    "            d  = os.path.join(dirr,p)\n",
    "            if (os.path.isdir(d) == True):\n",
    "                delete_null_dir(d)\n",
    "    if not os.listdir(dirr):\n",
    "        os.rmdir(dirr)\n",
    "        print '移除空目录: ', dirr\n",
    "\n",
    "if __name__ == \"__main__\":\n",
    "    print \"===开始删除空文件夹===\"\n",
    "    delete_null_dir(rootDir)\n",
    "    print \"===结束删除空文件夹===\"\n",
    "    b = FileFilt()\n",
    "    b.FilterFile(dirr = rootDir)\n",
    "    print 'count : ',b.counter\n",
    "    print 'deleted : ',b.deleted\n",
    "    print 'errord : ',b.errord\n",
    "   \n",
    "    print 'execute finished.'\n",
    "        "
   ]
  }
 ],
 "metadata": {
  "kernelspec": {
   "display_name": "Python 3",
   "language": "python",
   "name": "python3"
  },
  "language_info": {
   "codemirror_mode": {
    "name": "ipython",
    "version": 3
   },
   "file_extension": ".py",
   "mimetype": "text/x-python",
   "name": "python",
   "nbconvert_exporter": "python",
   "pygments_lexer": "ipython3",
   "version": "3.6.2"
  }
 },
 "nbformat": 4,
 "nbformat_minor": 2
}
